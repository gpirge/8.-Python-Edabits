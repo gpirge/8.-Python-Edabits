{
 "cells": [
  {
   "cell_type": "markdown",
   "metadata": {},
   "source": [
    "# Drunken Python"
   ]
  },
  {
   "cell_type": "code",
   "execution_count": null,
   "metadata": {},
   "outputs": [],
   "source": [
    "Python got drunk and the built-in functions str() and int() are acting odd:\n",
    "\n",
    "str(4) ➞ 4\n",
    "\n",
    "str(\"4\") ➞ 4\n",
    "\n",
    "int(\"4\") ➞ \"4\"\n",
    "\n",
    "int(4) ➞ \"4\"\n",
    "\n",
    "You need to create two functions to substitute str() and int(). \n",
    "A function called int_to_str() that converts integers into strings and a function called str_to_int() \n",
    "that converts strings into integers.\n",
    "\n",
    "Examples:\n",
    "\n",
    "int_to_str(4) ➞ \"4\"\n",
    "\n",
    "str_to_int(\"4\") ➞ 4\n",
    "\n",
    "int_to_str(29348) ➞ \"29348\""
   ]
  },
  {
   "cell_type": "code",
   "execution_count": 9,
   "metadata": {},
   "outputs": [],
   "source": [
    "def int_to_str(word_1):\n",
    "    return int(word_1)\n",
    "        \n",
    "def str_to_int(word_2):\n",
    "    return str(word_2)"
   ]
  },
  {
   "cell_type": "code",
   "execution_count": 10,
   "metadata": {},
   "outputs": [
    {
     "data": {
      "text/plain": [
       "'4'"
      ]
     },
     "execution_count": 10,
     "metadata": {},
     "output_type": "execute_result"
    }
   ],
   "source": [
    "int_to_str(4)"
   ]
  },
  {
   "cell_type": "code",
   "execution_count": 11,
   "metadata": {},
   "outputs": [
    {
     "data": {
      "text/plain": [
       "4"
      ]
     },
     "execution_count": 11,
     "metadata": {},
     "output_type": "execute_result"
    }
   ],
   "source": [
    "str_to_int('4')"
   ]
  },
  {
   "cell_type": "code",
   "execution_count": 12,
   "metadata": {},
   "outputs": [
    {
     "data": {
      "text/plain": [
       "'29348'"
      ]
     },
     "execution_count": 12,
     "metadata": {},
     "output_type": "execute_result"
    }
   ],
   "source": [
    "int_to_str(29348)"
   ]
  },
  {
   "cell_type": "code",
   "execution_count": null,
   "metadata": {},
   "outputs": [],
   "source": []
  }
 ],
 "metadata": {
  "kernelspec": {
   "display_name": "Python 3",
   "language": "python",
   "name": "python3"
  },
  "language_info": {
   "codemirror_mode": {
    "name": "ipython",
    "version": 3
   },
   "file_extension": ".py",
   "mimetype": "text/x-python",
   "name": "python",
   "nbconvert_exporter": "python",
   "pygments_lexer": "ipython3",
   "version": "3.7.6"
  }
 },
 "nbformat": 4,
 "nbformat_minor": 4
}
